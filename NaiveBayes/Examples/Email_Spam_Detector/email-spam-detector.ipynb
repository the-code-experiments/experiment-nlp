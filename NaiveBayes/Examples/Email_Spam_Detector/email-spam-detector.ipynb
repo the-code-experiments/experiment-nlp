{
 "cells": [
  {
   "cell_type": "markdown",
   "metadata": {},
   "source": [
    "# Email Spam Detector\n",
    "\n",
    "Given some data (emails) and some labels (spam/not spam), build a classifier that can detect whether an email is spam or not spam\n",
    "\n",
    "* Pick n different words\n",
    "* Feature = 100 * word count / total number of words\n",
    "\n",
    "## Notes\n",
    "\n",
    "* Datasets http://archive.ics.uci.edu/ml/datasets/Spambase\n"
   ]
  },
  {
   "cell_type": "code",
   "execution_count": 1,
   "metadata": {},
   "outputs": [
    {
     "name": "stdout",
     "output_type": "stream",
     "text": [
      "The mean accuracy on the given test data and labels:  0.92\n"
     ]
    }
   ],
   "source": [
    "# Using Naive Bayes\n",
    "from sklearn.naive_bayes import MultinomialNB\n",
    "import pandas as pd\n",
    "import numpy as np\n",
    "\n",
    "data = pd.read_csv('spambase_email.data').values\n",
    "np.random.shuffle(data)\n",
    "\n",
    "X = data[:, :48]\n",
    "Y = data[:, -1]\n",
    "\n",
    "Xtrain = X[:-100,]\n",
    "Ytrain = Y[:-100,]\n",
    "\n",
    "Xtest = X[-100:,]\n",
    "Ytest = Y[-100:,]\n",
    "\n",
    "model = MultinomialNB()\n",
    "model.fit(Xtrain, Ytrain)\n",
    "\n",
    "print(\"The mean accuracy on the given test data and labels: \", model.score(Xtest, Ytest))\n"
   ]
  },
  {
   "cell_type": "markdown",
   "metadata": {},
   "source": [
    "# AdaBoost\n",
    "\n",
    "* Combine many weak classifiers to form one strong classifier, this approach of combining models is called **Ensembling**\n",
    "* AdaBoost wants its base classifiers to be weak\n",
    "* AdaBoost weights its weak classifiers\n",
    "\n",
    "What is a weak classifier?\n",
    "\n",
    "* Linear classifier is an eg which can't solve XOR and donut\n",
    "* Decision stumps, pease of decision tree.\n"
   ]
  },
  {
   "cell_type": "code",
   "execution_count": 2,
   "metadata": {},
   "outputs": [
    {
     "name": "stdout",
     "output_type": "stream",
     "text": [
      "The mean accuracy on the given test data and labels:  0.93\n"
     ]
    }
   ],
   "source": [
    "# Using AdaBoost\n",
    "\n",
    "from sklearn.ensemble import AdaBoostClassifier\n",
    "import pandas as pd\n",
    "import numpy as np\n",
    "\n",
    "data = pd.read_csv('spambase_email.data').values\n",
    "np.random.shuffle(data)\n",
    "\n",
    "X = data[:, :48]\n",
    "Y = data[:, -1]\n",
    "\n",
    "Xtrain = X[:-100,]\n",
    "Ytrain = Y[:-100,]\n",
    "\n",
    "Xtest = X[-100:,]\n",
    "Ytest = Y[-100:,]\n",
    "\n",
    "model = AdaBoostClassifier()\n",
    "model.fit(Xtrain, Ytrain)\n",
    "\n",
    "print(\"The mean accuracy on the given test data and labels: \", model.score(Xtest, Ytest))\n"
   ]
  }
 ],
 "metadata": {
  "kernelspec": {
   "display_name": "Python 3",
   "language": "python",
   "name": "python3"
  },
  "language_info": {
   "codemirror_mode": {
    "name": "ipython",
    "version": 3
   },
   "file_extension": ".py",
   "mimetype": "text/x-python",
   "name": "python",
   "nbconvert_exporter": "python",
   "pygments_lexer": "ipython3",
   "version": "3.6.4"
  }
 },
 "nbformat": 4,
 "nbformat_minor": 2
}
